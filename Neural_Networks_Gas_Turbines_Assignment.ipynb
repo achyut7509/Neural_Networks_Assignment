{
 "cells": [
  {
   "cell_type": "markdown",
   "id": "742094cc",
   "metadata": {},
   "source": [
    "# Neural Network - Gas_Turbine_Problem\n",
    "## ------------------------------------------------------------------------------------------------------------------------------\n",
    "## Problem statement: predicting turbine energy yield (TEY) using ambient variables as features."
   ]
  },
  {
   "cell_type": "markdown",
   "id": "ac165a59",
   "metadata": {},
   "source": [
    "## 1. Import necessary libraries :"
   ]
  },
  {
   "cell_type": "code",
   "execution_count": 3,
   "id": "7db6caac",
   "metadata": {},
   "outputs": [],
   "source": [
    "import tensorflow as tf\n",
    "import pandas as pd\n",
    "import numpy as np\n",
    "import matplotlib.pyplot as plt\n",
    "import seaborn as sns\n",
    "\n",
    "import warnings\n",
    "warnings.filterwarnings('ignore')"
   ]
  },
  {
   "cell_type": "markdown",
   "id": "884a4a93",
   "metadata": {},
   "source": [
    "## 2. Import dataset :"
   ]
  },
  {
   "cell_type": "code",
   "execution_count": 50,
   "id": "22db3442",
   "metadata": {},
   "outputs": [
    {
     "data": {
      "text/html": [
       "<div>\n",
       "<style scoped>\n",
       "    .dataframe tbody tr th:only-of-type {\n",
       "        vertical-align: middle;\n",
       "    }\n",
       "\n",
       "    .dataframe tbody tr th {\n",
       "        vertical-align: top;\n",
       "    }\n",
       "\n",
       "    .dataframe thead th {\n",
       "        text-align: right;\n",
       "    }\n",
       "</style>\n",
       "<table border=\"1\" class=\"dataframe\">\n",
       "  <thead>\n",
       "    <tr style=\"text-align: right;\">\n",
       "      <th></th>\n",
       "      <th>AT</th>\n",
       "      <th>AP</th>\n",
       "      <th>AH</th>\n",
       "      <th>AFDP</th>\n",
       "      <th>GTEP</th>\n",
       "      <th>TIT</th>\n",
       "      <th>TAT</th>\n",
       "      <th>TEY</th>\n",
       "      <th>CDP</th>\n",
       "      <th>CO</th>\n",
       "      <th>NOX</th>\n",
       "    </tr>\n",
       "  </thead>\n",
       "  <tbody>\n",
       "    <tr>\n",
       "      <th>0</th>\n",
       "      <td>6.8594</td>\n",
       "      <td>1007.9</td>\n",
       "      <td>96.799</td>\n",
       "      <td>3.5000</td>\n",
       "      <td>19.663</td>\n",
       "      <td>1059.2</td>\n",
       "      <td>550.00</td>\n",
       "      <td>114.70</td>\n",
       "      <td>10.605</td>\n",
       "      <td>3.1547</td>\n",
       "      <td>82.722</td>\n",
       "    </tr>\n",
       "    <tr>\n",
       "      <th>1</th>\n",
       "      <td>6.7850</td>\n",
       "      <td>1008.4</td>\n",
       "      <td>97.118</td>\n",
       "      <td>3.4998</td>\n",
       "      <td>19.728</td>\n",
       "      <td>1059.3</td>\n",
       "      <td>550.00</td>\n",
       "      <td>114.72</td>\n",
       "      <td>10.598</td>\n",
       "      <td>3.2363</td>\n",
       "      <td>82.776</td>\n",
       "    </tr>\n",
       "    <tr>\n",
       "      <th>2</th>\n",
       "      <td>6.8977</td>\n",
       "      <td>1008.8</td>\n",
       "      <td>95.939</td>\n",
       "      <td>3.4824</td>\n",
       "      <td>19.779</td>\n",
       "      <td>1059.4</td>\n",
       "      <td>549.87</td>\n",
       "      <td>114.71</td>\n",
       "      <td>10.601</td>\n",
       "      <td>3.2012</td>\n",
       "      <td>82.468</td>\n",
       "    </tr>\n",
       "    <tr>\n",
       "      <th>3</th>\n",
       "      <td>7.0569</td>\n",
       "      <td>1009.2</td>\n",
       "      <td>95.249</td>\n",
       "      <td>3.4805</td>\n",
       "      <td>19.792</td>\n",
       "      <td>1059.6</td>\n",
       "      <td>549.99</td>\n",
       "      <td>114.72</td>\n",
       "      <td>10.606</td>\n",
       "      <td>3.1923</td>\n",
       "      <td>82.670</td>\n",
       "    </tr>\n",
       "    <tr>\n",
       "      <th>4</th>\n",
       "      <td>7.3978</td>\n",
       "      <td>1009.7</td>\n",
       "      <td>95.150</td>\n",
       "      <td>3.4976</td>\n",
       "      <td>19.765</td>\n",
       "      <td>1059.7</td>\n",
       "      <td>549.98</td>\n",
       "      <td>114.72</td>\n",
       "      <td>10.612</td>\n",
       "      <td>3.2484</td>\n",
       "      <td>82.311</td>\n",
       "    </tr>\n",
       "    <tr>\n",
       "      <th>...</th>\n",
       "      <td>...</td>\n",
       "      <td>...</td>\n",
       "      <td>...</td>\n",
       "      <td>...</td>\n",
       "      <td>...</td>\n",
       "      <td>...</td>\n",
       "      <td>...</td>\n",
       "      <td>...</td>\n",
       "      <td>...</td>\n",
       "      <td>...</td>\n",
       "      <td>...</td>\n",
       "    </tr>\n",
       "    <tr>\n",
       "      <th>15034</th>\n",
       "      <td>9.0301</td>\n",
       "      <td>1005.6</td>\n",
       "      <td>98.460</td>\n",
       "      <td>3.5421</td>\n",
       "      <td>19.164</td>\n",
       "      <td>1049.7</td>\n",
       "      <td>546.21</td>\n",
       "      <td>111.61</td>\n",
       "      <td>10.400</td>\n",
       "      <td>4.5186</td>\n",
       "      <td>79.559</td>\n",
       "    </tr>\n",
       "    <tr>\n",
       "      <th>15035</th>\n",
       "      <td>7.8879</td>\n",
       "      <td>1005.9</td>\n",
       "      <td>99.093</td>\n",
       "      <td>3.5059</td>\n",
       "      <td>19.414</td>\n",
       "      <td>1046.3</td>\n",
       "      <td>543.22</td>\n",
       "      <td>111.78</td>\n",
       "      <td>10.433</td>\n",
       "      <td>4.8470</td>\n",
       "      <td>79.917</td>\n",
       "    </tr>\n",
       "    <tr>\n",
       "      <th>15036</th>\n",
       "      <td>7.2647</td>\n",
       "      <td>1006.3</td>\n",
       "      <td>99.496</td>\n",
       "      <td>3.4770</td>\n",
       "      <td>19.530</td>\n",
       "      <td>1037.7</td>\n",
       "      <td>537.32</td>\n",
       "      <td>110.19</td>\n",
       "      <td>10.483</td>\n",
       "      <td>7.9632</td>\n",
       "      <td>90.912</td>\n",
       "    </tr>\n",
       "    <tr>\n",
       "      <th>15037</th>\n",
       "      <td>7.0060</td>\n",
       "      <td>1006.8</td>\n",
       "      <td>99.008</td>\n",
       "      <td>3.4486</td>\n",
       "      <td>19.377</td>\n",
       "      <td>1043.2</td>\n",
       "      <td>541.24</td>\n",
       "      <td>110.74</td>\n",
       "      <td>10.533</td>\n",
       "      <td>6.2494</td>\n",
       "      <td>93.227</td>\n",
       "    </tr>\n",
       "    <tr>\n",
       "      <th>15038</th>\n",
       "      <td>6.9279</td>\n",
       "      <td>1007.2</td>\n",
       "      <td>97.533</td>\n",
       "      <td>3.4275</td>\n",
       "      <td>19.306</td>\n",
       "      <td>1049.9</td>\n",
       "      <td>545.85</td>\n",
       "      <td>111.58</td>\n",
       "      <td>10.583</td>\n",
       "      <td>4.9816</td>\n",
       "      <td>92.498</td>\n",
       "    </tr>\n",
       "  </tbody>\n",
       "</table>\n",
       "<p>15039 rows × 11 columns</p>\n",
       "</div>"
      ],
      "text/plain": [
       "           AT      AP      AH    AFDP    GTEP     TIT     TAT     TEY     CDP  \\\n",
       "0      6.8594  1007.9  96.799  3.5000  19.663  1059.2  550.00  114.70  10.605   \n",
       "1      6.7850  1008.4  97.118  3.4998  19.728  1059.3  550.00  114.72  10.598   \n",
       "2      6.8977  1008.8  95.939  3.4824  19.779  1059.4  549.87  114.71  10.601   \n",
       "3      7.0569  1009.2  95.249  3.4805  19.792  1059.6  549.99  114.72  10.606   \n",
       "4      7.3978  1009.7  95.150  3.4976  19.765  1059.7  549.98  114.72  10.612   \n",
       "...       ...     ...     ...     ...     ...     ...     ...     ...     ...   \n",
       "15034  9.0301  1005.6  98.460  3.5421  19.164  1049.7  546.21  111.61  10.400   \n",
       "15035  7.8879  1005.9  99.093  3.5059  19.414  1046.3  543.22  111.78  10.433   \n",
       "15036  7.2647  1006.3  99.496  3.4770  19.530  1037.7  537.32  110.19  10.483   \n",
       "15037  7.0060  1006.8  99.008  3.4486  19.377  1043.2  541.24  110.74  10.533   \n",
       "15038  6.9279  1007.2  97.533  3.4275  19.306  1049.9  545.85  111.58  10.583   \n",
       "\n",
       "           CO     NOX  \n",
       "0      3.1547  82.722  \n",
       "1      3.2363  82.776  \n",
       "2      3.2012  82.468  \n",
       "3      3.1923  82.670  \n",
       "4      3.2484  82.311  \n",
       "...       ...     ...  \n",
       "15034  4.5186  79.559  \n",
       "15035  4.8470  79.917  \n",
       "15036  7.9632  90.912  \n",
       "15037  6.2494  93.227  \n",
       "15038  4.9816  92.498  \n",
       "\n",
       "[15039 rows x 11 columns]"
      ]
     },
     "execution_count": 50,
     "metadata": {},
     "output_type": "execute_result"
    }
   ],
   "source": [
    "gas_turbine_data = pd.read_csv('gas_turbines.csv',sep=',')\n",
    "gas_turbine_data"
   ]
  },
  {
   "cell_type": "markdown",
   "id": "8bacbe41",
   "metadata": {},
   "source": [
    "## 3. Data Understanding :"
   ]
  },
  {
   "cell_type": "markdown",
   "id": "fe366701",
   "metadata": {},
   "source": [
    "### 3.1 About data : \n",
    "### The dataset contains 36733 instances of 11 sensor measures aggregated over one hour (by means of average or sum) from a gas turbine. \n",
    "\n",
    "### The Dataset includes gas turbine parameters (such as Turbine Inlet Temperature and Compressor Discharge pressure) in addition to the ambient variables.\n",
    "\n",
    "### Attribute Information:\n",
    "\n",
    "### The explanations of sensor measurements and their brief statistics are given below.\n",
    "\n",
    "### * **Variable (Abbr.)**        **Unit** **Min** **Max** **Mean**\n",
    "#### * **1.  Ambient temperature (AT)** C â€“ 6.23      37.10   17.71\n",
    "#### * **2.  Ambient pressure (AP)**    mbar  985.85   1036.56 1013.07\n",
    "#### * **3.  Ambient humidity (AH)**    (%)   24.08    100.20  77.87\n",
    "#### * **4.  Air filter difference pressure (AFDP)** mbar 2.09   7.61   3.93\n",
    "#### * **5.  Gas turbine exhaust pressure (GTEP)** mbar  17.70   40.72   25.56\n",
    "#### * **6.  Turbine inlet temperature (TIT)** C      1000.85   1100.89   1081.43\n",
    "#### * **7.  Turbine after temperature (TAT)** C      511.04 550.61 546.16\n",
    "#### * **8.  Compressor discharge pressure (CDP)** mbar 9.85 15.16 12.06\n",
    "#### * **9.  Turbine energy yield (TEY)** MWH 100.02 179.50 133.51\n",
    "#### * **10. Carbon monoxide (CO)** mg/m3 0.00 44.10 2.37\n",
    "#### * **11. Nitrogen oxides (NOx)** mg/m3 25.90 119.91 65.29"
   ]
  },
  {
   "cell_type": "markdown",
   "id": "f0c7738d",
   "metadata": {},
   "source": [
    "### 3.2 Initial Analysis :"
   ]
  },
  {
   "cell_type": "code",
   "execution_count": 5,
   "id": "7c5fe7f6",
   "metadata": {},
   "outputs": [
    {
     "data": {
      "text/plain": [
       "(15039, 11)"
      ]
     },
     "execution_count": 5,
     "metadata": {},
     "output_type": "execute_result"
    }
   ],
   "source": [
    "gas_turbine_data.shape"
   ]
  },
  {
   "cell_type": "code",
   "execution_count": 6,
   "id": "59bcf0b3",
   "metadata": {},
   "outputs": [
    {
     "data": {
      "text/plain": [
       "AT      0\n",
       "AP      0\n",
       "AH      0\n",
       "AFDP    0\n",
       "GTEP    0\n",
       "TIT     0\n",
       "TAT     0\n",
       "TEY     0\n",
       "CDP     0\n",
       "CO      0\n",
       "NOX     0\n",
       "dtype: int64"
      ]
     },
     "execution_count": 6,
     "metadata": {},
     "output_type": "execute_result"
    }
   ],
   "source": [
    "gas_turbine_data.isna().sum()"
   ]
  },
  {
   "cell_type": "code",
   "execution_count": 7,
   "id": "4b7c06c7",
   "metadata": {},
   "outputs": [
    {
     "data": {
      "text/plain": [
       "AT      float64\n",
       "AP      float64\n",
       "AH      float64\n",
       "AFDP    float64\n",
       "GTEP    float64\n",
       "TIT     float64\n",
       "TAT     float64\n",
       "TEY     float64\n",
       "CDP     float64\n",
       "CO      float64\n",
       "NOX     float64\n",
       "dtype: object"
      ]
     },
     "execution_count": 7,
     "metadata": {},
     "output_type": "execute_result"
    }
   ],
   "source": [
    "gas_turbine_data.dtypes"
   ]
  },
  {
   "cell_type": "markdown",
   "id": "2e69df7b",
   "metadata": {},
   "source": [
    "## 4. Data Preparation :"
   ]
  },
  {
   "cell_type": "code",
   "execution_count": 8,
   "id": "11748695",
   "metadata": {},
   "outputs": [],
   "source": [
    "gas_turbine_data_1 = gas_turbine_data.copy()"
   ]
  },
  {
   "cell_type": "code",
   "execution_count": 9,
   "id": "3de5d700",
   "metadata": {},
   "outputs": [
    {
     "data": {
      "text/html": [
       "<div>\n",
       "<style scoped>\n",
       "    .dataframe tbody tr th:only-of-type {\n",
       "        vertical-align: middle;\n",
       "    }\n",
       "\n",
       "    .dataframe tbody tr th {\n",
       "        vertical-align: top;\n",
       "    }\n",
       "\n",
       "    .dataframe thead th {\n",
       "        text-align: right;\n",
       "    }\n",
       "</style>\n",
       "<table border=\"1\" class=\"dataframe\">\n",
       "  <thead>\n",
       "    <tr style=\"text-align: right;\">\n",
       "      <th></th>\n",
       "      <th>AT</th>\n",
       "      <th>AP</th>\n",
       "      <th>AH</th>\n",
       "      <th>AFDP</th>\n",
       "      <th>GTEP</th>\n",
       "      <th>TIT</th>\n",
       "      <th>TAT</th>\n",
       "      <th>TEY</th>\n",
       "      <th>CDP</th>\n",
       "      <th>CO</th>\n",
       "      <th>NOX</th>\n",
       "    </tr>\n",
       "  </thead>\n",
       "  <tbody>\n",
       "    <tr>\n",
       "      <th>0</th>\n",
       "      <td>6.8594</td>\n",
       "      <td>1007.9</td>\n",
       "      <td>96.799</td>\n",
       "      <td>3.5000</td>\n",
       "      <td>19.663</td>\n",
       "      <td>1059.2</td>\n",
       "      <td>550.00</td>\n",
       "      <td>114.70</td>\n",
       "      <td>10.605</td>\n",
       "      <td>3.1547</td>\n",
       "      <td>82.722</td>\n",
       "    </tr>\n",
       "    <tr>\n",
       "      <th>1</th>\n",
       "      <td>6.7850</td>\n",
       "      <td>1008.4</td>\n",
       "      <td>97.118</td>\n",
       "      <td>3.4998</td>\n",
       "      <td>19.728</td>\n",
       "      <td>1059.3</td>\n",
       "      <td>550.00</td>\n",
       "      <td>114.72</td>\n",
       "      <td>10.598</td>\n",
       "      <td>3.2363</td>\n",
       "      <td>82.776</td>\n",
       "    </tr>\n",
       "    <tr>\n",
       "      <th>2</th>\n",
       "      <td>6.8977</td>\n",
       "      <td>1008.8</td>\n",
       "      <td>95.939</td>\n",
       "      <td>3.4824</td>\n",
       "      <td>19.779</td>\n",
       "      <td>1059.4</td>\n",
       "      <td>549.87</td>\n",
       "      <td>114.71</td>\n",
       "      <td>10.601</td>\n",
       "      <td>3.2012</td>\n",
       "      <td>82.468</td>\n",
       "    </tr>\n",
       "    <tr>\n",
       "      <th>3</th>\n",
       "      <td>7.0569</td>\n",
       "      <td>1009.2</td>\n",
       "      <td>95.249</td>\n",
       "      <td>3.4805</td>\n",
       "      <td>19.792</td>\n",
       "      <td>1059.6</td>\n",
       "      <td>549.99</td>\n",
       "      <td>114.72</td>\n",
       "      <td>10.606</td>\n",
       "      <td>3.1923</td>\n",
       "      <td>82.670</td>\n",
       "    </tr>\n",
       "    <tr>\n",
       "      <th>4</th>\n",
       "      <td>7.3978</td>\n",
       "      <td>1009.7</td>\n",
       "      <td>95.150</td>\n",
       "      <td>3.4976</td>\n",
       "      <td>19.765</td>\n",
       "      <td>1059.7</td>\n",
       "      <td>549.98</td>\n",
       "      <td>114.72</td>\n",
       "      <td>10.612</td>\n",
       "      <td>3.2484</td>\n",
       "      <td>82.311</td>\n",
       "    </tr>\n",
       "  </tbody>\n",
       "</table>\n",
       "</div>"
      ],
      "text/plain": [
       "       AT      AP      AH    AFDP    GTEP     TIT     TAT     TEY     CDP  \\\n",
       "0  6.8594  1007.9  96.799  3.5000  19.663  1059.2  550.00  114.70  10.605   \n",
       "1  6.7850  1008.4  97.118  3.4998  19.728  1059.3  550.00  114.72  10.598   \n",
       "2  6.8977  1008.8  95.939  3.4824  19.779  1059.4  549.87  114.71  10.601   \n",
       "3  7.0569  1009.2  95.249  3.4805  19.792  1059.6  549.99  114.72  10.606   \n",
       "4  7.3978  1009.7  95.150  3.4976  19.765  1059.7  549.98  114.72  10.612   \n",
       "\n",
       "       CO     NOX  \n",
       "0  3.1547  82.722  \n",
       "1  3.2363  82.776  \n",
       "2  3.2012  82.468  \n",
       "3  3.1923  82.670  \n",
       "4  3.2484  82.311  "
      ]
     },
     "execution_count": 9,
     "metadata": {},
     "output_type": "execute_result"
    }
   ],
   "source": [
    "gas_turbine_data_1.head()"
   ]
  },
  {
   "cell_type": "markdown",
   "id": "ac703214",
   "metadata": {},
   "source": [
    "### 4.1 Dropping the features :"
   ]
  },
  {
   "cell_type": "code",
   "execution_count": 10,
   "id": "4e006bea",
   "metadata": {},
   "outputs": [
    {
     "data": {
      "text/html": [
       "<div>\n",
       "<style scoped>\n",
       "    .dataframe tbody tr th:only-of-type {\n",
       "        vertical-align: middle;\n",
       "    }\n",
       "\n",
       "    .dataframe tbody tr th {\n",
       "        vertical-align: top;\n",
       "    }\n",
       "\n",
       "    .dataframe thead th {\n",
       "        text-align: right;\n",
       "    }\n",
       "</style>\n",
       "<table border=\"1\" class=\"dataframe\">\n",
       "  <thead>\n",
       "    <tr style=\"text-align: right;\">\n",
       "      <th></th>\n",
       "      <th>AT</th>\n",
       "      <th>AP</th>\n",
       "      <th>AH</th>\n",
       "      <th>AFDP</th>\n",
       "      <th>TEY</th>\n",
       "    </tr>\n",
       "  </thead>\n",
       "  <tbody>\n",
       "    <tr>\n",
       "      <th>0</th>\n",
       "      <td>6.8594</td>\n",
       "      <td>1007.9</td>\n",
       "      <td>96.799</td>\n",
       "      <td>3.5000</td>\n",
       "      <td>114.70</td>\n",
       "    </tr>\n",
       "    <tr>\n",
       "      <th>1</th>\n",
       "      <td>6.7850</td>\n",
       "      <td>1008.4</td>\n",
       "      <td>97.118</td>\n",
       "      <td>3.4998</td>\n",
       "      <td>114.72</td>\n",
       "    </tr>\n",
       "    <tr>\n",
       "      <th>2</th>\n",
       "      <td>6.8977</td>\n",
       "      <td>1008.8</td>\n",
       "      <td>95.939</td>\n",
       "      <td>3.4824</td>\n",
       "      <td>114.71</td>\n",
       "    </tr>\n",
       "    <tr>\n",
       "      <th>3</th>\n",
       "      <td>7.0569</td>\n",
       "      <td>1009.2</td>\n",
       "      <td>95.249</td>\n",
       "      <td>3.4805</td>\n",
       "      <td>114.72</td>\n",
       "    </tr>\n",
       "    <tr>\n",
       "      <th>4</th>\n",
       "      <td>7.3978</td>\n",
       "      <td>1009.7</td>\n",
       "      <td>95.150</td>\n",
       "      <td>3.4976</td>\n",
       "      <td>114.72</td>\n",
       "    </tr>\n",
       "  </tbody>\n",
       "</table>\n",
       "</div>"
      ],
      "text/plain": [
       "       AT      AP      AH    AFDP     TEY\n",
       "0  6.8594  1007.9  96.799  3.5000  114.70\n",
       "1  6.7850  1008.4  97.118  3.4998  114.72\n",
       "2  6.8977  1008.8  95.939  3.4824  114.71\n",
       "3  7.0569  1009.2  95.249  3.4805  114.72\n",
       "4  7.3978  1009.7  95.150  3.4976  114.72"
      ]
     },
     "execution_count": 10,
     "metadata": {},
     "output_type": "execute_result"
    }
   ],
   "source": [
    "gas_turbine_data_1.drop(labels= ['GTEP','TIT','TAT','CDP','CO','NOX'],axis=1,inplace=True)\n",
    "gas_turbine_data_1.head()"
   ]
  },
  {
   "cell_type": "code",
   "execution_count": 11,
   "id": "1f4013b2",
   "metadata": {},
   "outputs": [
    {
     "data": {
      "text/plain": [
       "AT      0\n",
       "AP      0\n",
       "AH      0\n",
       "AFDP    0\n",
       "TEY     0\n",
       "dtype: int64"
      ]
     },
     "execution_count": 11,
     "metadata": {},
     "output_type": "execute_result"
    }
   ],
   "source": [
    "gas_turbine_data_1.isna().sum()"
   ]
  },
  {
   "cell_type": "code",
   "execution_count": 12,
   "id": "8e187a67",
   "metadata": {},
   "outputs": [
    {
     "data": {
      "text/plain": [
       "AT      float64\n",
       "AP      float64\n",
       "AH      float64\n",
       "AFDP    float64\n",
       "TEY     float64\n",
       "dtype: object"
      ]
     },
     "execution_count": 12,
     "metadata": {},
     "output_type": "execute_result"
    }
   ],
   "source": [
    "gas_turbine_data_1.dtypes"
   ]
  },
  {
   "cell_type": "code",
   "execution_count": 13,
   "id": "4b7e6c7d",
   "metadata": {},
   "outputs": [
    {
     "data": {
      "text/plain": [
       "(15039, 5)"
      ]
     },
     "execution_count": 13,
     "metadata": {},
     "output_type": "execute_result"
    }
   ],
   "source": [
    "gas_turbine_data_1.shape"
   ]
  },
  {
   "cell_type": "markdown",
   "id": "653f5cc9",
   "metadata": {},
   "source": [
    "## 5. Model Building :"
   ]
  },
  {
   "cell_type": "markdown",
   "id": "19dcc1d0",
   "metadata": {},
   "source": [
    "### 5.1 Building the input and output variable :"
   ]
  },
  {
   "cell_type": "code",
   "execution_count": 14,
   "id": "70ffb667",
   "metadata": {},
   "outputs": [],
   "source": [
    "X = gas_turbine_data_1.drop(labels='TEY',axis=1)\n",
    "y = gas_turbine_data_1[['TEY']]"
   ]
  },
  {
   "cell_type": "markdown",
   "id": "a7f9280c",
   "metadata": {},
   "source": [
    "### 5.2 Normalising the values :"
   ]
  },
  {
   "cell_type": "code",
   "execution_count": 15,
   "id": "defb861e",
   "metadata": {},
   "outputs": [],
   "source": [
    "from sklearn.preprocessing import MinMaxScaler"
   ]
  },
  {
   "cell_type": "code",
   "execution_count": 16,
   "id": "22754c49",
   "metadata": {},
   "outputs": [
    {
     "data": {
      "text/html": [
       "<div>\n",
       "<style scoped>\n",
       "    .dataframe tbody tr th:only-of-type {\n",
       "        vertical-align: middle;\n",
       "    }\n",
       "\n",
       "    .dataframe tbody tr th {\n",
       "        vertical-align: top;\n",
       "    }\n",
       "\n",
       "    .dataframe thead th {\n",
       "        text-align: right;\n",
       "    }\n",
       "</style>\n",
       "<table border=\"1\" class=\"dataframe\">\n",
       "  <thead>\n",
       "    <tr style=\"text-align: right;\">\n",
       "      <th></th>\n",
       "      <th>AT</th>\n",
       "      <th>AP</th>\n",
       "      <th>AH</th>\n",
       "      <th>AFDP</th>\n",
       "    </tr>\n",
       "  </thead>\n",
       "  <tbody>\n",
       "    <tr>\n",
       "      <th>0</th>\n",
       "      <td>0.184182</td>\n",
       "      <td>0.456050</td>\n",
       "      <td>0.951314</td>\n",
       "      <td>0.255758</td>\n",
       "    </tr>\n",
       "    <tr>\n",
       "      <th>1</th>\n",
       "      <td>0.182020</td>\n",
       "      <td>0.466391</td>\n",
       "      <td>0.955881</td>\n",
       "      <td>0.255721</td>\n",
       "    </tr>\n",
       "    <tr>\n",
       "      <th>2</th>\n",
       "      <td>0.185295</td>\n",
       "      <td>0.474664</td>\n",
       "      <td>0.939003</td>\n",
       "      <td>0.252571</td>\n",
       "    </tr>\n",
       "    <tr>\n",
       "      <th>3</th>\n",
       "      <td>0.189922</td>\n",
       "      <td>0.482937</td>\n",
       "      <td>0.929126</td>\n",
       "      <td>0.252227</td>\n",
       "    </tr>\n",
       "    <tr>\n",
       "      <th>4</th>\n",
       "      <td>0.199830</td>\n",
       "      <td>0.493278</td>\n",
       "      <td>0.927708</td>\n",
       "      <td>0.255323</td>\n",
       "    </tr>\n",
       "    <tr>\n",
       "      <th>...</th>\n",
       "      <td>...</td>\n",
       "      <td>...</td>\n",
       "      <td>...</td>\n",
       "      <td>...</td>\n",
       "    </tr>\n",
       "    <tr>\n",
       "      <th>15034</th>\n",
       "      <td>0.247272</td>\n",
       "      <td>0.408480</td>\n",
       "      <td>0.975092</td>\n",
       "      <td>0.263380</td>\n",
       "    </tr>\n",
       "    <tr>\n",
       "      <th>15035</th>\n",
       "      <td>0.214075</td>\n",
       "      <td>0.414685</td>\n",
       "      <td>0.984153</td>\n",
       "      <td>0.256826</td>\n",
       "    </tr>\n",
       "    <tr>\n",
       "      <th>15036</th>\n",
       "      <td>0.195962</td>\n",
       "      <td>0.422958</td>\n",
       "      <td>0.989922</td>\n",
       "      <td>0.251593</td>\n",
       "    </tr>\n",
       "    <tr>\n",
       "      <th>15037</th>\n",
       "      <td>0.188443</td>\n",
       "      <td>0.433299</td>\n",
       "      <td>0.982936</td>\n",
       "      <td>0.246451</td>\n",
       "    </tr>\n",
       "    <tr>\n",
       "      <th>15038</th>\n",
       "      <td>0.186173</td>\n",
       "      <td>0.441572</td>\n",
       "      <td>0.961821</td>\n",
       "      <td>0.242631</td>\n",
       "    </tr>\n",
       "  </tbody>\n",
       "</table>\n",
       "<p>15039 rows × 4 columns</p>\n",
       "</div>"
      ],
      "text/plain": [
       "             AT        AP        AH      AFDP\n",
       "0      0.184182  0.456050  0.951314  0.255758\n",
       "1      0.182020  0.466391  0.955881  0.255721\n",
       "2      0.185295  0.474664  0.939003  0.252571\n",
       "3      0.189922  0.482937  0.929126  0.252227\n",
       "4      0.199830  0.493278  0.927708  0.255323\n",
       "...         ...       ...       ...       ...\n",
       "15034  0.247272  0.408480  0.975092  0.263380\n",
       "15035  0.214075  0.414685  0.984153  0.256826\n",
       "15036  0.195962  0.422958  0.989922  0.251593\n",
       "15037  0.188443  0.433299  0.982936  0.246451\n",
       "15038  0.186173  0.441572  0.961821  0.242631\n",
       "\n",
       "[15039 rows x 4 columns]"
      ]
     },
     "execution_count": 16,
     "metadata": {},
     "output_type": "execute_result"
    }
   ],
   "source": [
    "min_max_scaler = MinMaxScaler()\n",
    "scaled_x = min_max_scaler.fit_transform(X)\n",
    "X_scaled = pd.DataFrame(scaled_x,columns=X.columns)\n",
    "X_scaled"
   ]
  },
  {
   "cell_type": "markdown",
   "id": "0d5d55f9",
   "metadata": {},
   "source": [
    "## 6. Model Training :"
   ]
  },
  {
   "cell_type": "code",
   "execution_count": 17,
   "id": "b999c271",
   "metadata": {},
   "outputs": [],
   "source": [
    "from sklearn.model_selection import train_test_split"
   ]
  },
  {
   "cell_type": "code",
   "execution_count": 29,
   "id": "f7b5cf7d",
   "metadata": {},
   "outputs": [],
   "source": [
    "X_train,X_test,y_train,y_test = train_test_split(X_scaled,y,random_state=12,test_size=0.30)"
   ]
  },
  {
   "cell_type": "code",
   "execution_count": 30,
   "id": "a8fef352",
   "metadata": {},
   "outputs": [
    {
     "data": {
      "text/plain": [
       "((10527, 4), (4512, 4))"
      ]
     },
     "execution_count": 30,
     "metadata": {},
     "output_type": "execute_result"
    }
   ],
   "source": [
    "X_train.shape,X_test.shape"
   ]
  },
  {
   "cell_type": "code",
   "execution_count": 31,
   "id": "6c52ce8f",
   "metadata": {},
   "outputs": [
    {
     "data": {
      "text/plain": [
       "((10527, 1), (4512, 1))"
      ]
     },
     "execution_count": 31,
     "metadata": {},
     "output_type": "execute_result"
    }
   ],
   "source": [
    "y_train.shape,y_test.shape"
   ]
  },
  {
   "cell_type": "markdown",
   "id": "e149bc76",
   "metadata": {},
   "source": [
    "## -----------------------------------------------------------------------------------------------------------------------------------"
   ]
  },
  {
   "cell_type": "markdown",
   "id": "ed0b3af0",
   "metadata": {},
   "source": [
    "# Neural Networks Concept :"
   ]
  },
  {
   "cell_type": "markdown",
   "id": "0521fd06",
   "metadata": {},
   "source": [
    "## 7. Model Building and Training:"
   ]
  },
  {
   "cell_type": "code",
   "execution_count": 32,
   "id": "95e9d67a",
   "metadata": {},
   "outputs": [],
   "source": [
    "from keras.models import Sequential\n",
    "from keras.layers import Dense"
   ]
  },
  {
   "cell_type": "code",
   "execution_count": 33,
   "id": "c0fd8307",
   "metadata": {},
   "outputs": [
    {
     "name": "stdout",
     "output_type": "stream",
     "text": [
      "Model: \"sequential_1\"\n",
      "_________________________________________________________________\n",
      " Layer (type)                Output Shape              Param #   \n",
      "=================================================================\n",
      " dense_4 (Dense)             (None, 500)               2500      \n",
      "                                                                 \n",
      " dense_5 (Dense)             (None, 300)               150300    \n",
      "                                                                 \n",
      " dense_6 (Dense)             (None, 100)               30100     \n",
      "                                                                 \n",
      " dense_7 (Dense)             (None, 1)                 101       \n",
      "                                                                 \n",
      "=================================================================\n",
      "Total params: 183,001\n",
      "Trainable params: 183,001\n",
      "Non-trainable params: 0\n",
      "_________________________________________________________________\n"
     ]
    }
   ],
   "source": [
    "model_1 = Sequential()\n",
    "model_1.add(Dense(units = 500,activation='relu',input_dim = 4))\n",
    "model_1.add(Dense(units = 300,activation='elu'))\n",
    "model_1.add(Dense(units = 100,activation='softmax'))\n",
    "model_1.add(Dense(units = 1,activation='relu'))\n",
    "model_1.summary()"
   ]
  },
  {
   "cell_type": "markdown",
   "id": "b1a65909",
   "metadata": {},
   "source": [
    "## 8. Model Compilation :"
   ]
  },
  {
   "cell_type": "code",
   "execution_count": 34,
   "id": "24888220",
   "metadata": {},
   "outputs": [],
   "source": [
    "model_1.compile(optimizer='rmsprop',loss='mean_absolute_error',metrics=['mae','accuracy'])"
   ]
  },
  {
   "cell_type": "markdown",
   "id": "17d317fe",
   "metadata": {},
   "source": [
    "## 9. Training the model:"
   ]
  },
  {
   "cell_type": "code",
   "execution_count": 35,
   "id": "641f37a0",
   "metadata": {},
   "outputs": [
    {
     "name": "stdout",
     "output_type": "stream",
     "text": [
      "Epoch 1/30\n",
      "106/106 - 2s - loss: 133.8563 - mae: 133.8563 - accuracy: 0.0000e+00 - 2s/epoch - 16ms/step\n",
      "Epoch 2/30\n",
      "106/106 - 1s - loss: 133.6304 - mae: 133.6304 - accuracy: 0.0000e+00 - 638ms/epoch - 6ms/step\n",
      "Epoch 3/30\n",
      "106/106 - 1s - loss: 133.4184 - mae: 133.4184 - accuracy: 0.0000e+00 - 652ms/epoch - 6ms/step\n",
      "Epoch 4/30\n",
      "106/106 - 1s - loss: 133.2064 - mae: 133.2064 - accuracy: 0.0000e+00 - 634ms/epoch - 6ms/step\n",
      "Epoch 5/30\n",
      "106/106 - 1s - loss: 132.9944 - mae: 132.9944 - accuracy: 0.0000e+00 - 631ms/epoch - 6ms/step\n",
      "Epoch 6/30\n",
      "106/106 - 1s - loss: 132.7824 - mae: 132.7824 - accuracy: 0.0000e+00 - 662ms/epoch - 6ms/step\n",
      "Epoch 7/30\n",
      "106/106 - 1s - loss: 132.5704 - mae: 132.5704 - accuracy: 0.0000e+00 - 682ms/epoch - 6ms/step\n",
      "Epoch 8/30\n",
      "106/106 - 1s - loss: 132.3585 - mae: 132.3585 - accuracy: 0.0000e+00 - 659ms/epoch - 6ms/step\n",
      "Epoch 9/30\n",
      "106/106 - 1s - loss: 132.1464 - mae: 132.1464 - accuracy: 0.0000e+00 - 666ms/epoch - 6ms/step\n",
      "Epoch 10/30\n",
      "106/106 - 1s - loss: 131.9344 - mae: 131.9344 - accuracy: 0.0000e+00 - 697ms/epoch - 7ms/step\n",
      "Epoch 11/30\n",
      "106/106 - 1s - loss: 131.7224 - mae: 131.7224 - accuracy: 0.0000e+00 - 659ms/epoch - 6ms/step\n",
      "Epoch 12/30\n",
      "106/106 - 1s - loss: 131.5104 - mae: 131.5104 - accuracy: 0.0000e+00 - 675ms/epoch - 6ms/step\n",
      "Epoch 13/30\n",
      "106/106 - 1s - loss: 131.2984 - mae: 131.2984 - accuracy: 0.0000e+00 - 629ms/epoch - 6ms/step\n",
      "Epoch 14/30\n",
      "106/106 - 1s - loss: 131.0864 - mae: 131.0864 - accuracy: 0.0000e+00 - 703ms/epoch - 7ms/step\n",
      "Epoch 15/30\n",
      "106/106 - 1s - loss: 130.8744 - mae: 130.8744 - accuracy: 0.0000e+00 - 676ms/epoch - 6ms/step\n",
      "Epoch 16/30\n",
      "106/106 - 1s - loss: 130.6624 - mae: 130.6624 - accuracy: 0.0000e+00 - 669ms/epoch - 6ms/step\n",
      "Epoch 17/30\n",
      "106/106 - 1s - loss: 130.4504 - mae: 130.4504 - accuracy: 0.0000e+00 - 734ms/epoch - 7ms/step\n",
      "Epoch 18/30\n",
      "106/106 - 1s - loss: 130.2384 - mae: 130.2383 - accuracy: 0.0000e+00 - 668ms/epoch - 6ms/step\n",
      "Epoch 19/30\n",
      "106/106 - 1s - loss: 130.0264 - mae: 130.0264 - accuracy: 0.0000e+00 - 683ms/epoch - 6ms/step\n",
      "Epoch 20/30\n",
      "106/106 - 1s - loss: 129.8144 - mae: 129.8144 - accuracy: 0.0000e+00 - 698ms/epoch - 7ms/step\n",
      "Epoch 21/30\n",
      "106/106 - 1s - loss: 129.6024 - mae: 129.6024 - accuracy: 0.0000e+00 - 656ms/epoch - 6ms/step\n",
      "Epoch 22/30\n",
      "106/106 - 1s - loss: 129.3904 - mae: 129.3904 - accuracy: 0.0000e+00 - 635ms/epoch - 6ms/step\n",
      "Epoch 23/30\n",
      "106/106 - 1s - loss: 129.1784 - mae: 129.1784 - accuracy: 0.0000e+00 - 621ms/epoch - 6ms/step\n",
      "Epoch 24/30\n",
      "106/106 - 1s - loss: 128.9665 - mae: 128.9665 - accuracy: 0.0000e+00 - 623ms/epoch - 6ms/step\n",
      "Epoch 25/30\n",
      "106/106 - 1s - loss: 128.7545 - mae: 128.7545 - accuracy: 0.0000e+00 - 604ms/epoch - 6ms/step\n",
      "Epoch 26/30\n",
      "106/106 - 1s - loss: 128.5425 - mae: 128.5425 - accuracy: 0.0000e+00 - 614ms/epoch - 6ms/step\n",
      "Epoch 27/30\n",
      "106/106 - 1s - loss: 128.3305 - mae: 128.3305 - accuracy: 0.0000e+00 - 586ms/epoch - 6ms/step\n",
      "Epoch 28/30\n",
      "106/106 - 1s - loss: 128.1185 - mae: 128.1185 - accuracy: 0.0000e+00 - 637ms/epoch - 6ms/step\n",
      "Epoch 29/30\n",
      "106/106 - 1s - loss: 127.9065 - mae: 127.9065 - accuracy: 0.0000e+00 - 607ms/epoch - 6ms/step\n",
      "Epoch 30/30\n",
      "106/106 - 1s - loss: 127.6945 - mae: 127.6945 - accuracy: 0.0000e+00 - 600ms/epoch - 6ms/step\n"
     ]
    },
    {
     "data": {
      "text/plain": [
       "<keras.callbacks.History at 0x1ada0645310>"
      ]
     },
     "execution_count": 35,
     "metadata": {},
     "output_type": "execute_result"
    }
   ],
   "source": [
    "model_1.fit(x=X_train,y=y_train,batch_size=100,epochs=30,verbose=2)"
   ]
  },
  {
   "cell_type": "markdown",
   "id": "e7c494ce",
   "metadata": {},
   "source": [
    "## 10. Finding the best optimal parameters:"
   ]
  },
  {
   "cell_type": "markdown",
   "id": "525e488c",
   "metadata": {},
   "source": [
    "### I. Dataset :"
   ]
  },
  {
   "cell_type": "code",
   "execution_count": 58,
   "id": "a6a75962",
   "metadata": {},
   "outputs": [
    {
     "data": {
      "text/html": [
       "<div>\n",
       "<style scoped>\n",
       "    .dataframe tbody tr th:only-of-type {\n",
       "        vertical-align: middle;\n",
       "    }\n",
       "\n",
       "    .dataframe tbody tr th {\n",
       "        vertical-align: top;\n",
       "    }\n",
       "\n",
       "    .dataframe thead th {\n",
       "        text-align: right;\n",
       "    }\n",
       "</style>\n",
       "<table border=\"1\" class=\"dataframe\">\n",
       "  <thead>\n",
       "    <tr style=\"text-align: right;\">\n",
       "      <th></th>\n",
       "      <th>AT</th>\n",
       "      <th>AP</th>\n",
       "      <th>AH</th>\n",
       "      <th>AFDP</th>\n",
       "      <th>TEY</th>\n",
       "    </tr>\n",
       "  </thead>\n",
       "  <tbody>\n",
       "    <tr>\n",
       "      <th>0</th>\n",
       "      <td>6.8594</td>\n",
       "      <td>1007.9</td>\n",
       "      <td>96.799</td>\n",
       "      <td>3.5000</td>\n",
       "      <td>114.70</td>\n",
       "    </tr>\n",
       "    <tr>\n",
       "      <th>1</th>\n",
       "      <td>6.7850</td>\n",
       "      <td>1008.4</td>\n",
       "      <td>97.118</td>\n",
       "      <td>3.4998</td>\n",
       "      <td>114.72</td>\n",
       "    </tr>\n",
       "    <tr>\n",
       "      <th>2</th>\n",
       "      <td>6.8977</td>\n",
       "      <td>1008.8</td>\n",
       "      <td>95.939</td>\n",
       "      <td>3.4824</td>\n",
       "      <td>114.71</td>\n",
       "    </tr>\n",
       "    <tr>\n",
       "      <th>3</th>\n",
       "      <td>7.0569</td>\n",
       "      <td>1009.2</td>\n",
       "      <td>95.249</td>\n",
       "      <td>3.4805</td>\n",
       "      <td>114.72</td>\n",
       "    </tr>\n",
       "    <tr>\n",
       "      <th>4</th>\n",
       "      <td>7.3978</td>\n",
       "      <td>1009.7</td>\n",
       "      <td>95.150</td>\n",
       "      <td>3.4976</td>\n",
       "      <td>114.72</td>\n",
       "    </tr>\n",
       "  </tbody>\n",
       "</table>\n",
       "</div>"
      ],
      "text/plain": [
       "       AT      AP      AH    AFDP     TEY\n",
       "0  6.8594  1007.9  96.799  3.5000  114.70\n",
       "1  6.7850  1008.4  97.118  3.4998  114.72\n",
       "2  6.8977  1008.8  95.939  3.4824  114.71\n",
       "3  7.0569  1009.2  95.249  3.4805  114.72\n",
       "4  7.3978  1009.7  95.150  3.4976  114.72"
      ]
     },
     "execution_count": 58,
     "metadata": {},
     "output_type": "execute_result"
    }
   ],
   "source": [
    "gas_turbine_data_2 = gas_turbine_data_1.copy()\n",
    "gas_turbine_data_2.head()"
   ]
  },
  {
   "cell_type": "markdown",
   "id": "101f67f8",
   "metadata": {},
   "source": [
    "### II. Data Pre-Processing :"
   ]
  },
  {
   "cell_type": "code",
   "execution_count": 59,
   "id": "eb19b937",
   "metadata": {},
   "outputs": [],
   "source": [
    "#Setting Target Features and Predicting Features\n",
    "TargetVariable = ['TEY']\n",
    "Predictors = ['AT','AP','AH','AFDP']\n",
    "\n",
    "#Setting Target Variable and Predicting Variable\n",
    "X_1= gas_turbine_data_2[Predictors].values\n",
    "y_1= gas_turbine_data_2[TargetVariable].values"
   ]
  },
  {
   "cell_type": "code",
   "execution_count": 60,
   "id": "8b8472e6",
   "metadata": {},
   "outputs": [],
   "source": [
    "# Sandardization of data ###\n",
    "from sklearn.preprocessing import MinMaxScaler\n",
    "PredictorScaler=MinMaxScaler()\n",
    "TargetVarScaler=MinMaxScaler()\n",
    "\n",
    "#Fitting of the values\n",
    "PredictorScalerFit=PredictorScaler.fit(X_1)\n",
    "TargetVarScalerFit=TargetVarScaler.fit(y_1)\n",
    " \n",
    "# Generating the standardized values of X and y\n",
    "X_transformed=PredictorScalerFit.transform(X_1)\n",
    "y_transformed=TargetVarScalerFit.transform(y_1)"
   ]
  },
  {
   "cell_type": "markdown",
   "id": "d769631f",
   "metadata": {},
   "source": [
    "### III. Model Training :"
   ]
  },
  {
   "cell_type": "code",
   "execution_count": 61,
   "id": "14fbb830",
   "metadata": {},
   "outputs": [],
   "source": [
    "# Split the data into training and testing set\n",
    "from sklearn.model_selection import train_test_split\n",
    "X_train, X_test, y_train, y_test = train_test_split(X_transformed, y_transformed, test_size=0.30, random_state=12) "
   ]
  },
  {
   "cell_type": "code",
   "execution_count": 62,
   "id": "fd19b64d",
   "metadata": {},
   "outputs": [
    {
     "data": {
      "text/plain": [
       "((10527, 4), (4512, 4))"
      ]
     },
     "execution_count": 62,
     "metadata": {},
     "output_type": "execute_result"
    }
   ],
   "source": [
    "(X_train.shape,X_test.shape)"
   ]
  },
  {
   "cell_type": "code",
   "execution_count": 63,
   "id": "32bc62cc",
   "metadata": {},
   "outputs": [
    {
     "data": {
      "text/plain": [
       "((10527, 1), (4512, 1))"
      ]
     },
     "execution_count": 63,
     "metadata": {},
     "output_type": "execute_result"
    }
   ],
   "source": [
    "(y_train.shape,y_test.shape)"
   ]
  },
  {
   "cell_type": "markdown",
   "id": "2fac95a4",
   "metadata": {},
   "source": [
    "### IV. Best Model Building and Training:"
   ]
  },
  {
   "cell_type": "code",
   "execution_count": 64,
   "id": "9a5dcddb",
   "metadata": {},
   "outputs": [
    {
     "name": "stdout",
     "output_type": "stream",
     "text": [
      "1 Parameters: batch_size: 50 - epochs: 30 Accuracy: 56.682174419693055\n",
      "2 Parameters: batch_size: 50 - epochs: 50 Accuracy: 56.00179749504287\n",
      "3 Parameters: batch_size: 50 - epochs: 100 Accuracy: 57.300002760076374\n",
      "4 Parameters: batch_size: 50 - epochs: 150 Accuracy: 57.016262090753095\n",
      "5 Parameters: batch_size: 50 - epochs: 175 Accuracy: 55.56892174937524\n",
      "6 Parameters: batch_size: 100 - epochs: 30 Accuracy: 54.68489987386609\n",
      "7 Parameters: batch_size: 100 - epochs: 50 Accuracy: 30.838887772563197\n",
      "8 Parameters: batch_size: 100 - epochs: 100 Accuracy: 31.208255321693642\n",
      "9 Parameters: batch_size: 100 - epochs: 150 Accuracy: 55.14532589945297\n",
      "10 Parameters: batch_size: 100 - epochs: 175 Accuracy: 54.69842640118648\n",
      "11 Parameters: batch_size: 125 - epochs: 30 Accuracy: 53.413256577861475\n",
      "12 Parameters: batch_size: 125 - epochs: 50 Accuracy: 55.70196886800971\n",
      "13 Parameters: batch_size: 125 - epochs: 100 Accuracy: 56.8095953242883\n",
      "14 Parameters: batch_size: 125 - epochs: 150 Accuracy: 30.662645199942986\n",
      "15 Parameters: batch_size: 125 - epochs: 175 Accuracy: 57.441538853861545\n",
      "16 Parameters: batch_size: 150 - epochs: 30 Accuracy: 51.69347341159477\n",
      "17 Parameters: batch_size: 150 - epochs: 50 Accuracy: 54.597043989638145\n",
      "18 Parameters: batch_size: 150 - epochs: 100 Accuracy: 55.135376505581654\n",
      "19 Parameters: batch_size: 150 - epochs: 150 Accuracy: 54.94253423100918\n",
      "20 Parameters: batch_size: 150 - epochs: 175 Accuracy: 55.14124932975664\n",
      "21 Parameters: batch_size: 200 - epochs: 30 Accuracy: 30.849443557688986\n",
      "22 Parameters: batch_size: 200 - epochs: 50 Accuracy: 55.78834630908589\n",
      "23 Parameters: batch_size: 200 - epochs: 100 Accuracy: 55.657209523568\n",
      "24 Parameters: batch_size: 200 - epochs: 150 Accuracy: 57.18014560983076\n",
      "25 Parameters: batch_size: 200 - epochs: 175 Accuracy: 56.199787515643784\n"
     ]
    }
   ],
   "source": [
    "def BestParams(X_train, y_train, X_test, y_test):\n",
    "    \n",
    "    # Defining the list of hyper parameters to try\n",
    "    batch_size_list=[50, 100, 125, 150,200]\n",
    "    epoch_list  =   [30, 50, 100, 150,175]\n",
    "    \n",
    "    import pandas as pd\n",
    "    SearchResultsData=pd.DataFrame(columns=['TrialNumber', 'Parameters', 'Accuracy'])\n",
    "    \n",
    "    # initializing the trials\n",
    "    TrialNumber=0\n",
    "    for batch_size_trial in batch_size_list:\n",
    "        for epochs_trial in epoch_list:\n",
    "            TrialNumber+=1\n",
    "            # create ANN model\n",
    "            model_1 = Sequential()\n",
    "            # Defining the first layer of the model\n",
    "            model_1.add(Dense(units=5, input_dim=X_train.shape[1], kernel_initializer='normal', activation='sigmoid'))\n",
    " \n",
    "            # Defining the Second layer of the model\n",
    "            model_1.add(Dense(units=5, kernel_initializer='normal', activation='relu'))\n",
    "        \n",
    "            # Defining the third layer of the model\n",
    "            model_1.add(Dense(units=5, kernel_initializer='normal', activation='relu'))\n",
    " \n",
    "            # The output neuron is a single fully connected node \n",
    "            # Since we will be predicting a single number\n",
    "            model_1.add(Dense(1, kernel_initializer='normal',activation = 'elu'))\n",
    " \n",
    "            # Compiling the model\n",
    "            model_1.compile(loss='mean_squared_error', optimizer='adam')\n",
    " \n",
    "            # Fitting the ANN to the Training set\n",
    "            model_1.fit(X_train, y_train ,batch_size = batch_size_trial, epochs = epochs_trial, verbose=0)\n",
    " \n",
    "            MAPE = (np.mean(100*(np.abs(y_test-model_1.predict(X_test))/y_test)))\n",
    "            \n",
    "            # printing the results of the current iteration\n",
    "            print(TrialNumber, 'Parameters:','batch_size:', batch_size_trial,'-', 'epochs:',epochs_trial, 'Accuracy:', 100-MAPE)\n",
    "            \n",
    "            SearchResultsData=SearchResultsData.append(pd.DataFrame(data=[[TrialNumber, str(batch_size_trial)+'-'+str(epochs_trial), 100-MAPE]],\n",
    "                                                                    columns=['TrialNumber', 'Parameters', 'Accuracy'] ))\n",
    "    return(SearchResultsData)\n",
    " \n",
    " \n",
    "\n",
    " #Calling the function\n",
    "ResultsData = BestParams(X_train, y_train, X_test, y_test)"
   ]
  },
  {
   "cell_type": "code",
   "execution_count": 65,
   "id": "559a806f",
   "metadata": {},
   "outputs": [
    {
     "data": {
      "image/png": "[encoded data removed]",
      "text/plain": [
       "<Figure size 1080x288 with 1 Axes>"
      ]
     },
     "metadata": {
      "needs_background": "light"
     },
     "output_type": "display_data"
    }
   ],
   "source": [
    "%matplotlib inline\n",
    "ResultsData.plot(x='Parameters', y='Accuracy', figsize=(15,4), kind='line')\n",
    "plt.show()"
   ]
  },
  {
   "cell_type": "markdown",
   "id": "8f24ba42",
   "metadata": {},
   "source": [
    "## 11. Predictions :"
   ]
  },
  {
   "cell_type": "code",
   "execution_count": 66,
   "id": "74350fa9",
   "metadata": {},
   "outputs": [
    {
     "data": {
      "text/html": [
       "<div>\n",
       "<style scoped>\n",
       "    .dataframe tbody tr th:only-of-type {\n",
       "        vertical-align: middle;\n",
       "    }\n",
       "\n",
       "    .dataframe tbody tr th {\n",
       "        vertical-align: top;\n",
       "    }\n",
       "\n",
       "    .dataframe thead th {\n",
       "        text-align: right;\n",
       "    }\n",
       "</style>\n",
       "<table border=\"1\" class=\"dataframe\">\n",
       "  <thead>\n",
       "    <tr style=\"text-align: right;\">\n",
       "      <th></th>\n",
       "      <th>AT</th>\n",
       "      <th>AP</th>\n",
       "      <th>AH</th>\n",
       "      <th>AFDP</th>\n",
       "      <th>Original_TEY</th>\n",
       "      <th>Predicted_TEY</th>\n",
       "    </tr>\n",
       "  </thead>\n",
       "  <tbody>\n",
       "    <tr>\n",
       "      <th>0</th>\n",
       "      <td>17.4730</td>\n",
       "      <td>1016.5</td>\n",
       "      <td>86.252</td>\n",
       "      <td>3.4721</td>\n",
       "      <td>112.06</td>\n",
       "      <td>109.493706</td>\n",
       "    </tr>\n",
       "    <tr>\n",
       "      <th>1</th>\n",
       "      <td>15.3180</td>\n",
       "      <td>1019.0</td>\n",
       "      <td>87.217</td>\n",
       "      <td>2.6364</td>\n",
       "      <td>127.18</td>\n",
       "      <td>128.968277</td>\n",
       "    </tr>\n",
       "    <tr>\n",
       "      <th>2</th>\n",
       "      <td>7.0389</td>\n",
       "      <td>1012.3</td>\n",
       "      <td>92.654</td>\n",
       "      <td>3.4710</td>\n",
       "      <td>132.70</td>\n",
       "      <td>114.520699</td>\n",
       "    </tr>\n",
       "    <tr>\n",
       "      <th>3</th>\n",
       "      <td>11.6440</td>\n",
       "      <td>1013.3</td>\n",
       "      <td>85.795</td>\n",
       "      <td>5.5408</td>\n",
       "      <td>159.95</td>\n",
       "      <td>159.479126</td>\n",
       "    </tr>\n",
       "    <tr>\n",
       "      <th>4</th>\n",
       "      <td>21.3680</td>\n",
       "      <td>1021.2</td>\n",
       "      <td>79.015</td>\n",
       "      <td>4.2917</td>\n",
       "      <td>132.85</td>\n",
       "      <td>133.943726</td>\n",
       "    </tr>\n",
       "    <tr>\n",
       "      <th>5</th>\n",
       "      <td>17.6150</td>\n",
       "      <td>1011.9</td>\n",
       "      <td>99.698</td>\n",
       "      <td>2.9327</td>\n",
       "      <td>132.99</td>\n",
       "      <td>114.599922</td>\n",
       "    </tr>\n",
       "    <tr>\n",
       "      <th>6</th>\n",
       "      <td>19.9140</td>\n",
       "      <td>1000.6</td>\n",
       "      <td>70.645</td>\n",
       "      <td>4.6168</td>\n",
       "      <td>132.72</td>\n",
       "      <td>133.721008</td>\n",
       "    </tr>\n",
       "    <tr>\n",
       "      <th>7</th>\n",
       "      <td>31.4370</td>\n",
       "      <td>1009.0</td>\n",
       "      <td>47.035</td>\n",
       "      <td>4.2043</td>\n",
       "      <td>133.74</td>\n",
       "      <td>133.789948</td>\n",
       "    </tr>\n",
       "    <tr>\n",
       "      <th>8</th>\n",
       "      <td>17.4710</td>\n",
       "      <td>1009.1</td>\n",
       "      <td>77.134</td>\n",
       "      <td>3.5195</td>\n",
       "      <td>110.72</td>\n",
       "      <td>123.430588</td>\n",
       "    </tr>\n",
       "    <tr>\n",
       "      <th>9</th>\n",
       "      <td>28.4450</td>\n",
       "      <td>1016.8</td>\n",
       "      <td>55.753</td>\n",
       "      <td>4.1556</td>\n",
       "      <td>133.76</td>\n",
       "      <td>133.976105</td>\n",
       "    </tr>\n",
       "    <tr>\n",
       "      <th>10</th>\n",
       "      <td>28.1870</td>\n",
       "      <td>1016.4</td>\n",
       "      <td>49.584</td>\n",
       "      <td>4.2462</td>\n",
       "      <td>133.81</td>\n",
       "      <td>133.950821</td>\n",
       "    </tr>\n",
       "    <tr>\n",
       "      <th>11</th>\n",
       "      <td>17.5330</td>\n",
       "      <td>1016.9</td>\n",
       "      <td>60.949</td>\n",
       "      <td>4.5343</td>\n",
       "      <td>158.88</td>\n",
       "      <td>148.454697</td>\n",
       "    </tr>\n",
       "    <tr>\n",
       "      <th>12</th>\n",
       "      <td>18.0810</td>\n",
       "      <td>1004.8</td>\n",
       "      <td>85.046</td>\n",
       "      <td>5.1413</td>\n",
       "      <td>133.76</td>\n",
       "      <td>133.836670</td>\n",
       "    </tr>\n",
       "    <tr>\n",
       "      <th>13</th>\n",
       "      <td>11.9810</td>\n",
       "      <td>1014.3</td>\n",
       "      <td>84.408</td>\n",
       "      <td>2.9952</td>\n",
       "      <td>133.98</td>\n",
       "      <td>133.893707</td>\n",
       "    </tr>\n",
       "    <tr>\n",
       "      <th>14</th>\n",
       "      <td>20.8520</td>\n",
       "      <td>1008.7</td>\n",
       "      <td>63.332</td>\n",
       "      <td>4.9223</td>\n",
       "      <td>133.73</td>\n",
       "      <td>132.595413</td>\n",
       "    </tr>\n",
       "    <tr>\n",
       "      <th>15</th>\n",
       "      <td>22.3040</td>\n",
       "      <td>1017.5</td>\n",
       "      <td>73.355</td>\n",
       "      <td>4.3268</td>\n",
       "      <td>132.75</td>\n",
       "      <td>134.835999</td>\n",
       "    </tr>\n",
       "    <tr>\n",
       "      <th>16</th>\n",
       "      <td>25.2960</td>\n",
       "      <td>1005.8</td>\n",
       "      <td>95.898</td>\n",
       "      <td>4.4615</td>\n",
       "      <td>133.77</td>\n",
       "      <td>135.918533</td>\n",
       "    </tr>\n",
       "    <tr>\n",
       "      <th>17</th>\n",
       "      <td>9.0852</td>\n",
       "      <td>1013.6</td>\n",
       "      <td>81.814</td>\n",
       "      <td>3.8314</td>\n",
       "      <td>134.08</td>\n",
       "      <td>134.235046</td>\n",
       "    </tr>\n",
       "    <tr>\n",
       "      <th>18</th>\n",
       "      <td>10.8350</td>\n",
       "      <td>1007.3</td>\n",
       "      <td>96.359</td>\n",
       "      <td>4.2762</td>\n",
       "      <td>134.57</td>\n",
       "      <td>134.142166</td>\n",
       "    </tr>\n",
       "    <tr>\n",
       "      <th>19</th>\n",
       "      <td>11.6820</td>\n",
       "      <td>1006.9</td>\n",
       "      <td>89.882</td>\n",
       "      <td>4.1982</td>\n",
       "      <td>134.51</td>\n",
       "      <td>133.758652</td>\n",
       "    </tr>\n",
       "  </tbody>\n",
       "</table>\n",
       "</div>"
      ],
      "text/plain": [
       "         AT      AP      AH    AFDP  Original_TEY  Predicted_TEY\n",
       "0   17.4730  1016.5  86.252  3.4721        112.06     109.493706\n",
       "1   15.3180  1019.0  87.217  2.6364        127.18     128.968277\n",
       "2    7.0389  1012.3  92.654  3.4710        132.70     114.520699\n",
       "3   11.6440  1013.3  85.795  5.5408        159.95     159.479126\n",
       "4   21.3680  1021.2  79.015  4.2917        132.85     133.943726\n",
       "5   17.6150  1011.9  99.698  2.9327        132.99     114.599922\n",
       "6   19.9140  1000.6  70.645  4.6168        132.72     133.721008\n",
       "7   31.4370  1009.0  47.035  4.2043        133.74     133.789948\n",
       "8   17.4710  1009.1  77.134  3.5195        110.72     123.430588\n",
       "9   28.4450  1016.8  55.753  4.1556        133.76     133.976105\n",
       "10  28.1870  1016.4  49.584  4.2462        133.81     133.950821\n",
       "11  17.5330  1016.9  60.949  4.5343        158.88     148.454697\n",
       "12  18.0810  1004.8  85.046  5.1413        133.76     133.836670\n",
       "13  11.9810  1014.3  84.408  2.9952        133.98     133.893707\n",
       "14  20.8520  1008.7  63.332  4.9223        133.73     132.595413\n",
       "15  22.3040  1017.5  73.355  4.3268        132.75     134.835999\n",
       "16  25.2960  1005.8  95.898  4.4615        133.77     135.918533\n",
       "17   9.0852  1013.6  81.814  3.8314        134.08     134.235046\n",
       "18  10.8350  1007.3  96.359  4.2762        134.57     134.142166\n",
       "19  11.6820  1006.9  89.882  4.1982        134.51     133.758652"
      ]
     },
     "execution_count": 66,
     "metadata": {},
     "output_type": "execute_result"
    }
   ],
   "source": [
    "# Fitting the ANN to the Training set\n",
    "model_1.fit(X_train, y_train ,batch_size = 125, epochs = 175, verbose=0)\n",
    " \n",
    "# Generating Predictions on testing data\n",
    "Predictions = model_1.predict((X_test))\n",
    "\n",
    "# Scaling the predicted Price data back to original price scale\n",
    "Predictions=TargetVarScalerFit.inverse_transform(Predictions)\n",
    " \n",
    "# Scaling the y_test Price data back to original price scale\n",
    "y_test_orig=TargetVarScalerFit.inverse_transform(y_test)\n",
    " \n",
    "# Scaling the test data back to original scale\n",
    "Test_Data=PredictorScalerFit.inverse_transform(X_test)\n",
    " \n",
    "TestingData=pd.DataFrame(data=Test_Data, columns=Predictors)\n",
    "TestingData['Original_TEY'] = y_test_orig\n",
    "TestingData['Predicted_TEY']=Predictions\n",
    "TestingData.head(20)"
   ]
  },
  {
   "cell_type": "code",
   "execution_count": 68,
   "id": "28322449",
   "metadata": {},
   "outputs": [
    {
     "name": "stdout",
     "output_type": "stream",
     "text": [
      "329/329 [==============================] - 2s 3ms/step - loss: 0.0705 - mae: 0.0705 - accuracy: 1.8999e-04\n"
     ]
    },
    {
     "data": {
      "text/plain": [
       "0.07049428671598434"
      ]
     },
     "execution_count": 68,
     "metadata": {},
     "output_type": "execute_result"
    }
   ],
   "source": [
    "model_1.evaluate(X_train,y_train,verbose=1)[0]"
   ]
  },
  {
   "cell_type": "code",
   "execution_count": 70,
   "id": "85931536",
   "metadata": {},
   "outputs": [
    {
     "data": {
      "text/html": [
       "<div>\n",
       "<style scoped>\n",
       "    .dataframe tbody tr th:only-of-type {\n",
       "        vertical-align: middle;\n",
       "    }\n",
       "\n",
       "    .dataframe tbody tr th {\n",
       "        vertical-align: top;\n",
       "    }\n",
       "\n",
       "    .dataframe thead th {\n",
       "        text-align: right;\n",
       "    }\n",
       "</style>\n",
       "<table border=\"1\" class=\"dataframe\">\n",
       "  <thead>\n",
       "    <tr style=\"text-align: right;\">\n",
       "      <th></th>\n",
       "      <th>AT</th>\n",
       "      <th>AP</th>\n",
       "      <th>AH</th>\n",
       "      <th>AFDP</th>\n",
       "      <th>Original_TEY</th>\n",
       "      <th>Predicted_TEY</th>\n",
       "    </tr>\n",
       "  </thead>\n",
       "  <tbody>\n",
       "    <tr>\n",
       "      <th>0</th>\n",
       "      <td>32.313</td>\n",
       "      <td>1010.5</td>\n",
       "      <td>38.015</td>\n",
       "      <td>4.6424</td>\n",
       "      <td>150.96</td>\n",
       "      <td>148.205338</td>\n",
       "    </tr>\n",
       "    <tr>\n",
       "      <th>1</th>\n",
       "      <td>27.693</td>\n",
       "      <td>1017.3</td>\n",
       "      <td>54.875</td>\n",
       "      <td>3.5559</td>\n",
       "      <td>110.78</td>\n",
       "      <td>111.635338</td>\n",
       "    </tr>\n",
       "    <tr>\n",
       "      <th>2</th>\n",
       "      <td>30.908</td>\n",
       "      <td>1010.3</td>\n",
       "      <td>51.289</td>\n",
       "      <td>4.5602</td>\n",
       "      <td>134.78</td>\n",
       "      <td>142.752365</td>\n",
       "    </tr>\n",
       "    <tr>\n",
       "      <th>3</th>\n",
       "      <td>12.187</td>\n",
       "      <td>1017.2</td>\n",
       "      <td>92.389</td>\n",
       "      <td>2.8928</td>\n",
       "      <td>133.05</td>\n",
       "      <td>133.955292</td>\n",
       "    </tr>\n",
       "    <tr>\n",
       "      <th>4</th>\n",
       "      <td>20.260</td>\n",
       "      <td>1005.6</td>\n",
       "      <td>86.535</td>\n",
       "      <td>3.1074</td>\n",
       "      <td>113.18</td>\n",
       "      <td>112.018997</td>\n",
       "    </tr>\n",
       "    <tr>\n",
       "      <th>5</th>\n",
       "      <td>18.478</td>\n",
       "      <td>1014.4</td>\n",
       "      <td>74.930</td>\n",
       "      <td>4.3370</td>\n",
       "      <td>135.43</td>\n",
       "      <td>144.051987</td>\n",
       "    </tr>\n",
       "    <tr>\n",
       "      <th>6</th>\n",
       "      <td>31.233</td>\n",
       "      <td>1009.0</td>\n",
       "      <td>46.442</td>\n",
       "      <td>4.8158</td>\n",
       "      <td>148.41</td>\n",
       "      <td>148.937363</td>\n",
       "    </tr>\n",
       "    <tr>\n",
       "      <th>7</th>\n",
       "      <td>11.060</td>\n",
       "      <td>1021.7</td>\n",
       "      <td>80.436</td>\n",
       "      <td>5.6009</td>\n",
       "      <td>160.68</td>\n",
       "      <td>161.587173</td>\n",
       "    </tr>\n",
       "    <tr>\n",
       "      <th>8</th>\n",
       "      <td>16.390</td>\n",
       "      <td>1007.0</td>\n",
       "      <td>89.559</td>\n",
       "      <td>4.7004</td>\n",
       "      <td>149.37</td>\n",
       "      <td>138.322464</td>\n",
       "    </tr>\n",
       "    <tr>\n",
       "      <th>9</th>\n",
       "      <td>21.531</td>\n",
       "      <td>1008.6</td>\n",
       "      <td>75.576</td>\n",
       "      <td>3.9081</td>\n",
       "      <td>134.25</td>\n",
       "      <td>133.852127</td>\n",
       "    </tr>\n",
       "    <tr>\n",
       "      <th>10</th>\n",
       "      <td>27.173</td>\n",
       "      <td>1018.6</td>\n",
       "      <td>53.409</td>\n",
       "      <td>3.8510</td>\n",
       "      <td>133.83</td>\n",
       "      <td>133.000610</td>\n",
       "    </tr>\n",
       "    <tr>\n",
       "      <th>11</th>\n",
       "      <td>22.680</td>\n",
       "      <td>1003.1</td>\n",
       "      <td>65.904</td>\n",
       "      <td>3.9786</td>\n",
       "      <td>103.53</td>\n",
       "      <td>111.145645</td>\n",
       "    </tr>\n",
       "    <tr>\n",
       "      <th>12</th>\n",
       "      <td>12.976</td>\n",
       "      <td>1012.2</td>\n",
       "      <td>91.776</td>\n",
       "      <td>3.5772</td>\n",
       "      <td>133.11</td>\n",
       "      <td>127.632324</td>\n",
       "    </tr>\n",
       "    <tr>\n",
       "      <th>13</th>\n",
       "      <td>11.455</td>\n",
       "      <td>1019.3</td>\n",
       "      <td>77.161</td>\n",
       "      <td>5.0615</td>\n",
       "      <td>161.20</td>\n",
       "      <td>162.079208</td>\n",
       "    </tr>\n",
       "    <tr>\n",
       "      <th>14</th>\n",
       "      <td>19.743</td>\n",
       "      <td>1015.1</td>\n",
       "      <td>80.670</td>\n",
       "      <td>4.4364</td>\n",
       "      <td>153.78</td>\n",
       "      <td>153.151566</td>\n",
       "    </tr>\n",
       "    <tr>\n",
       "      <th>15</th>\n",
       "      <td>27.948</td>\n",
       "      <td>1006.2</td>\n",
       "      <td>82.012</td>\n",
       "      <td>4.2446</td>\n",
       "      <td>135.16</td>\n",
       "      <td>133.885742</td>\n",
       "    </tr>\n",
       "    <tr>\n",
       "      <th>16</th>\n",
       "      <td>21.538</td>\n",
       "      <td>1014.1</td>\n",
       "      <td>79.848</td>\n",
       "      <td>4.0885</td>\n",
       "      <td>131.22</td>\n",
       "      <td>133.439178</td>\n",
       "    </tr>\n",
       "    <tr>\n",
       "      <th>17</th>\n",
       "      <td>21.148</td>\n",
       "      <td>1009.4</td>\n",
       "      <td>80.195</td>\n",
       "      <td>4.6935</td>\n",
       "      <td>120.36</td>\n",
       "      <td>150.787201</td>\n",
       "    </tr>\n",
       "    <tr>\n",
       "      <th>18</th>\n",
       "      <td>18.395</td>\n",
       "      <td>1012.7</td>\n",
       "      <td>94.029</td>\n",
       "      <td>4.0934</td>\n",
       "      <td>122.85</td>\n",
       "      <td>133.027527</td>\n",
       "    </tr>\n",
       "    <tr>\n",
       "      <th>19</th>\n",
       "      <td>22.354</td>\n",
       "      <td>1015.0</td>\n",
       "      <td>83.445</td>\n",
       "      <td>3.7469</td>\n",
       "      <td>134.37</td>\n",
       "      <td>133.814026</td>\n",
       "    </tr>\n",
       "  </tbody>\n",
       "</table>\n",
       "</div>"
      ],
      "text/plain": [
       "        AT      AP      AH    AFDP  Original_TEY  Predicted_TEY\n",
       "0   32.313  1010.5  38.015  4.6424        150.96     148.205338\n",
       "1   27.693  1017.3  54.875  3.5559        110.78     111.635338\n",
       "2   30.908  1010.3  51.289  4.5602        134.78     142.752365\n",
       "3   12.187  1017.2  92.389  2.8928        133.05     133.955292\n",
       "4   20.260  1005.6  86.535  3.1074        113.18     112.018997\n",
       "5   18.478  1014.4  74.930  4.3370        135.43     144.051987\n",
       "6   31.233  1009.0  46.442  4.8158        148.41     148.937363\n",
       "7   11.060  1021.7  80.436  5.6009        160.68     161.587173\n",
       "8   16.390  1007.0  89.559  4.7004        149.37     138.322464\n",
       "9   21.531  1008.6  75.576  3.9081        134.25     133.852127\n",
       "10  27.173  1018.6  53.409  3.8510        133.83     133.000610\n",
       "11  22.680  1003.1  65.904  3.9786        103.53     111.145645\n",
       "12  12.976  1012.2  91.776  3.5772        133.11     127.632324\n",
       "13  11.455  1019.3  77.161  5.0615        161.20     162.079208\n",
       "14  19.743  1015.1  80.670  4.4364        153.78     153.151566\n",
       "15  27.948  1006.2  82.012  4.2446        135.16     133.885742\n",
       "16  21.538  1014.1  79.848  4.0885        131.22     133.439178\n",
       "17  21.148  1009.4  80.195  4.6935        120.36     150.787201\n",
       "18  18.395  1012.7  94.029  4.0934        122.85     133.027527\n",
       "19  22.354  1015.0  83.445  3.7469        134.37     133.814026"
      ]
     },
     "execution_count": 70,
     "metadata": {},
     "output_type": "execute_result"
    }
   ],
   "source": [
    "# Fitting the ANN to the Training set\n",
    "model_1.fit(X_train, y_train ,batch_size = 125, epochs = 175, verbose=0)\n",
    " \n",
    "# Generating Predictions on testing data\n",
    "Predictions = model_1.predict((X_train))\n",
    "\n",
    "# Scaling the predicted Price data back to original price scale\n",
    "Predictions=TargetVarScalerFit.inverse_transform(Predictions)\n",
    " \n",
    "# Scaling the y_test Price data back to original price scale\n",
    "y_train_orig=TargetVarScalerFit.inverse_transform(y_train)\n",
    " \n",
    "# Scaling the test data back to original scale\n",
    "Test_Data=PredictorScalerFit.inverse_transform(X_train)\n",
    " \n",
    "TrainingData=pd.DataFrame(data=Test_Data, columns=Predictors)\n",
    "TrainingData['Original_TEY'] = y_train_orig\n",
    "TrainingData['Predicted_TEY']=Predictions\n",
    "TrainingData.head(20)"
   ]
  },
  {
   "cell_type": "code",
   "execution_count": 71,
   "id": "7e3fc7ff",
   "metadata": {},
   "outputs": [
    {
     "name": "stdout",
     "output_type": "stream",
     "text": [
      "329/329 [==============================] - 1s 3ms/step - loss: 0.0596 - mae: 0.0596 - accuracy: 1.8999e-04\n"
     ]
    },
    {
     "data": {
      "text/plain": [
       "0.05958973616361618"
      ]
     },
     "execution_count": 71,
     "metadata": {},
     "output_type": "execute_result"
    }
   ],
   "source": [
    "model_1.evaluate(X_train,y_train,verbose=1)[0]"
   ]
  },
  {
   "cell_type": "code",
   "execution_count": 74,
   "id": "aed0f7b6",
   "metadata": {},
   "outputs": [
    {
     "name": "stdout",
     "output_type": "stream",
     "text": [
      "The Accuracy of ANN model is: 87.3649095599888\n"
     ]
    },
    {
     "data": {
      "text/html": [
       "<div>\n",
       "<style scoped>\n",
       "    .dataframe tbody tr th:only-of-type {\n",
       "        vertical-align: middle;\n",
       "    }\n",
       "\n",
       "    .dataframe tbody tr th {\n",
       "        vertical-align: top;\n",
       "    }\n",
       "\n",
       "    .dataframe thead th {\n",
       "        text-align: right;\n",
       "    }\n",
       "</style>\n",
       "<table border=\"1\" class=\"dataframe\">\n",
       "  <thead>\n",
       "    <tr style=\"text-align: right;\">\n",
       "      <th></th>\n",
       "      <th>AT</th>\n",
       "      <th>AP</th>\n",
       "      <th>AH</th>\n",
       "      <th>AFDP</th>\n",
       "      <th>Original_TEY</th>\n",
       "      <th>Predicted_TEY</th>\n",
       "      <th>APE</th>\n",
       "    </tr>\n",
       "  </thead>\n",
       "  <tbody>\n",
       "    <tr>\n",
       "      <th>0</th>\n",
       "      <td>32.313</td>\n",
       "      <td>1010.5</td>\n",
       "      <td>38.015</td>\n",
       "      <td>4.6424</td>\n",
       "      <td>150.96</td>\n",
       "      <td>148.205338</td>\n",
       "      <td>27.468398</td>\n",
       "    </tr>\n",
       "    <tr>\n",
       "      <th>1</th>\n",
       "      <td>27.693</td>\n",
       "      <td>1017.3</td>\n",
       "      <td>54.875</td>\n",
       "      <td>3.5559</td>\n",
       "      <td>110.78</td>\n",
       "      <td>111.635338</td>\n",
       "      <td>16.418376</td>\n",
       "    </tr>\n",
       "    <tr>\n",
       "      <th>2</th>\n",
       "      <td>30.908</td>\n",
       "      <td>1010.3</td>\n",
       "      <td>51.289</td>\n",
       "      <td>4.5602</td>\n",
       "      <td>134.78</td>\n",
       "      <td>142.752365</td>\n",
       "      <td>15.031386</td>\n",
       "    </tr>\n",
       "    <tr>\n",
       "      <th>3</th>\n",
       "      <td>12.187</td>\n",
       "      <td>1017.2</td>\n",
       "      <td>92.389</td>\n",
       "      <td>2.8928</td>\n",
       "      <td>133.05</td>\n",
       "      <td>133.955292</td>\n",
       "      <td>19.864056</td>\n",
       "    </tr>\n",
       "    <tr>\n",
       "      <th>4</th>\n",
       "      <td>20.260</td>\n",
       "      <td>1005.6</td>\n",
       "      <td>86.535</td>\n",
       "      <td>3.1074</td>\n",
       "      <td>113.18</td>\n",
       "      <td>112.018997</td>\n",
       "      <td>18.345755</td>\n",
       "    </tr>\n",
       "  </tbody>\n",
       "</table>\n",
       "</div>"
      ],
      "text/plain": [
       "       AT      AP      AH    AFDP  Original_TEY  Predicted_TEY        APE\n",
       "0  32.313  1010.5  38.015  4.6424        150.96     148.205338  27.468398\n",
       "1  27.693  1017.3  54.875  3.5559        110.78     111.635338  16.418376\n",
       "2  30.908  1010.3  51.289  4.5602        134.78     142.752365  15.031386\n",
       "3  12.187  1017.2  92.389  2.8928        133.05     133.955292  19.864056\n",
       "4  20.260  1005.6  86.535  3.1074        113.18     112.018997  18.345755"
      ]
     },
     "execution_count": 74,
     "metadata": {},
     "output_type": "execute_result"
    }
   ],
   "source": [
    "# Computing the absolute percent error for training data\n",
    "APE=100*(abs(TrainingData['Original_TEY']-TestingData['Predicted_TEY'])/TrainingData['Original_TEY'])\n",
    "TrainingData['APE']=APE\n",
    "\n",
    "print('The Accuracy of ANN model is:', 100-np.mean(APE))\n",
    "TrainingData.head()"
   ]
  },
  {
   "cell_type": "code",
   "execution_count": 75,
   "id": "a98f6c68",
   "metadata": {},
   "outputs": [
    {
     "name": "stdout",
     "output_type": "stream",
     "text": [
      "The Accuracy of ANN model is: 95.84401560995197\n"
     ]
    },
    {
     "data": {
      "text/html": [
       "<div>\n",
       "<style scoped>\n",
       "    .dataframe tbody tr th:only-of-type {\n",
       "        vertical-align: middle;\n",
       "    }\n",
       "\n",
       "    .dataframe tbody tr th {\n",
       "        vertical-align: top;\n",
       "    }\n",
       "\n",
       "    .dataframe thead th {\n",
       "        text-align: right;\n",
       "    }\n",
       "</style>\n",
       "<table border=\"1\" class=\"dataframe\">\n",
       "  <thead>\n",
       "    <tr style=\"text-align: right;\">\n",
       "      <th></th>\n",
       "      <th>AT</th>\n",
       "      <th>AP</th>\n",
       "      <th>AH</th>\n",
       "      <th>AFDP</th>\n",
       "      <th>Original_TEY</th>\n",
       "      <th>Predicted_TEY</th>\n",
       "      <th>APE</th>\n",
       "    </tr>\n",
       "  </thead>\n",
       "  <tbody>\n",
       "    <tr>\n",
       "      <th>0</th>\n",
       "      <td>17.4730</td>\n",
       "      <td>1016.5</td>\n",
       "      <td>86.252</td>\n",
       "      <td>3.4721</td>\n",
       "      <td>112.06</td>\n",
       "      <td>109.493706</td>\n",
       "      <td>2.290107</td>\n",
       "    </tr>\n",
       "    <tr>\n",
       "      <th>1</th>\n",
       "      <td>15.3180</td>\n",
       "      <td>1019.0</td>\n",
       "      <td>87.217</td>\n",
       "      <td>2.6364</td>\n",
       "      <td>127.18</td>\n",
       "      <td>128.968277</td>\n",
       "      <td>1.406099</td>\n",
       "    </tr>\n",
       "    <tr>\n",
       "      <th>2</th>\n",
       "      <td>7.0389</td>\n",
       "      <td>1012.3</td>\n",
       "      <td>92.654</td>\n",
       "      <td>3.4710</td>\n",
       "      <td>132.70</td>\n",
       "      <td>114.520699</td>\n",
       "      <td>13.699549</td>\n",
       "    </tr>\n",
       "    <tr>\n",
       "      <th>3</th>\n",
       "      <td>11.6440</td>\n",
       "      <td>1013.3</td>\n",
       "      <td>85.795</td>\n",
       "      <td>5.5408</td>\n",
       "      <td>159.95</td>\n",
       "      <td>159.479126</td>\n",
       "      <td>0.294388</td>\n",
       "    </tr>\n",
       "    <tr>\n",
       "      <th>4</th>\n",
       "      <td>21.3680</td>\n",
       "      <td>1021.2</td>\n",
       "      <td>79.015</td>\n",
       "      <td>4.2917</td>\n",
       "      <td>132.85</td>\n",
       "      <td>133.943726</td>\n",
       "      <td>0.823279</td>\n",
       "    </tr>\n",
       "  </tbody>\n",
       "</table>\n",
       "</div>"
      ],
      "text/plain": [
       "        AT      AP      AH    AFDP  Original_TEY  Predicted_TEY        APE\n",
       "0  17.4730  1016.5  86.252  3.4721        112.06     109.493706   2.290107\n",
       "1  15.3180  1019.0  87.217  2.6364        127.18     128.968277   1.406099\n",
       "2   7.0389  1012.3  92.654  3.4710        132.70     114.520699  13.699549\n",
       "3  11.6440  1013.3  85.795  5.5408        159.95     159.479126   0.294388\n",
       "4  21.3680  1021.2  79.015  4.2917        132.85     133.943726   0.823279"
      ]
     },
     "execution_count": 75,
     "metadata": {},
     "output_type": "execute_result"
    }
   ],
   "source": [
    "# Computing the absolute percent error for test data\n",
    "APE=100*(abs(TestingData['Original_TEY']-TestingData['Predicted_TEY'])/TestingData['Original_TEY'])\n",
    "TestingData['APE']=APE\n",
    "\n",
    "print('The Accuracy of ANN model is:', 100-np.mean(APE))\n",
    "TestingData.head()"
   ]
  },
  {
   "cell_type": "code",
   "execution_count": null,
   "id": "4c108c82",
   "metadata": {},
   "outputs": [],
   "source": []
  }
 ],
 "metadata": {
  "kernelspec": {
   "display_name": "Python 3 (ipykernel)",
   "language": "python",
   "name": "python3"
  },
  "language_info": {
   "codemirror_mode": {
    "name": "ipython",
    "version": 3
   },
   "file_extension": ".py",
   "mimetype": "text/x-python",
   "name": "python",
   "nbconvert_exporter": "python",
   "pygments_lexer": "ipython3",
   "version": "3.9.7"
  }
 },
 "nbformat": 4,
 "nbformat_minor": 5
}
